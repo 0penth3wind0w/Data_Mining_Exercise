{
 "cells": [
  {
   "cell_type": "code",
   "execution_count": 1,
   "metadata": {},
   "outputs": [],
   "source": [
    "import findspark\n",
    "findspark.init()\n",
    "\n",
    "import re\n",
    "import pyspark\n",
    "from pyspark import SparkContext, SparkConf\n",
    "from pyspark.sql import SQLContext\n",
    "from pyspark.sql.functions import *\n",
    "\n",
    "sc = pyspark.SparkContext(appName=\"hw5\")\n",
    "#sqlContext = SQLContext(sc)"
   ]
  },
  {
   "cell_type": "code",
   "execution_count": 2,
   "metadata": {},
   "outputs": [],
   "source": [
    "# Read data\n",
    "data = sc.textFile('web-Google.txt').filter(lambda x: x[0]!='#').map(lambda x: re.split(r'\\t+', x))"
   ]
  },
  {
   "cell_type": "code",
   "execution_count": 3,
   "metadata": {},
   "outputs": [
    {
     "data": {
      "text/plain": [
       "[['0', '11342'], ['0', '824020'], ['0', '867923']]"
      ]
     },
     "execution_count": 3,
     "metadata": {},
     "output_type": "execute_result"
    }
   ],
   "source": [
    "# Verify the data\n",
    "data.take(3)"
   ]
  },
  {
   "cell_type": "code",
   "execution_count": 4,
   "metadata": {},
   "outputs": [],
   "source": [
    "# define the class for hw5\n",
    "class QueryRDD():\n",
    "    def __init__(self, rdd):\n",
    "        self.rdd = rdd\n",
    "    def list_in_degree(self):\n",
    "        return self.rdd.map(lambda x: (x[1], 1)).reduceByKey(lambda x,y: x+y).sortBy(lambda x:x[1], False)\n",
    "    def list_out_degree(self):\n",
    "        return self.rdd.map(lambda x: (x[0], 1)).reduceByKey(lambda x,y: x+y).sortBy(lambda x:x[1], False)\n",
    "    def show_out_node(self, node):\n",
    "        out_node = self.rdd.filter(lambda x: x[0] == node).map(lambda x: x[1])\n",
    "        return out_node\n",
    "    def show_in_node(self, node):\n",
    "        in_node = self.rdd.filter(lambda x: x[1] == node).map(lambda x: x[0])\n",
    "        return in_node"
   ]
  },
  {
   "cell_type": "code",
   "execution_count": 5,
   "metadata": {},
   "outputs": [],
   "source": [
    "rdd = QueryRDD(data)"
   ]
  },
  {
   "cell_type": "code",
   "execution_count": 6,
   "metadata": {},
   "outputs": [],
   "source": [
    "# Save the result of (1)\n",
    "rdd.list_out_degree().coalesce(1).saveAsTextFile('out_degree')"
   ]
  },
  {
   "cell_type": "code",
   "execution_count": 7,
   "metadata": {
    "scrolled": true
   },
   "outputs": [],
   "source": [
    "# Save the result of (2)\n",
    "rdd.list_in_degree().coalesce(1).saveAsTextFile('in_degree')"
   ]
  },
  {
   "cell_type": "code",
   "execution_count": 8,
   "metadata": {},
   "outputs": [],
   "source": [
    "#Sample result: list of nodes that node 506742 point to\n",
    "rdd.show_out_node('506742').coalesce(1).saveAsTextFile('506742_to')"
   ]
  },
  {
   "cell_type": "code",
   "execution_count": 9,
   "metadata": {},
   "outputs": [],
   "source": [
    "# Sample result: list of nodes that point to node 506742\n",
    "rdd.show_in_node('506742').coalesce(1).saveAsTextFile('to_506742')"
   ]
  },
  {
   "cell_type": "code",
   "execution_count": 10,
   "metadata": {},
   "outputs": [
    {
     "data": {
      "text/plain": [
       "['163835', '630782', '402037', '745138', '810453', '913189', '287801']"
      ]
     },
     "execution_count": 10,
     "metadata": {},
     "output_type": "execute_result"
    }
   ],
   "source": [
    "rdd.show_in_node('506742').collect()"
   ]
  },
  {
   "cell_type": "code",
   "execution_count": null,
   "metadata": {},
   "outputs": [],
   "source": []
  }
 ],
 "metadata": {
  "kernelspec": {
   "display_name": "Python 3",
   "language": "python",
   "name": "python3"
  },
  "language_info": {
   "codemirror_mode": {
    "name": "ipython",
    "version": 3
   },
   "file_extension": ".py",
   "mimetype": "text/x-python",
   "name": "python",
   "nbconvert_exporter": "python",
   "pygments_lexer": "ipython3",
   "version": "3.6.5"
  }
 },
 "nbformat": 4,
 "nbformat_minor": 2
}
