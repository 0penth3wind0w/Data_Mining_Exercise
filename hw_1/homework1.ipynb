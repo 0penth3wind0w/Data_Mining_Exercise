{
 "cells": [
  {
   "cell_type": "code",
   "execution_count": 1,
   "metadata": {},
   "outputs": [],
   "source": [
    "# If you are using different method to initialize spark session, this block might be different.\n",
    "import findspark\n",
    "findspark.init()\n",
    "\n",
    "import pyspark\n",
    "from pyspark import SparkContext, SparkConf\n",
    "from pyspark.sql import SQLContext\n",
    "from pyspark.sql.functions import *\n",
    "from pyspark.mllib.stat import Statistics\n",
    "\n",
    "import numpy as np\n",
    "from math import sqrt\n",
    "\n",
    "sc = pyspark.SparkContext(appName=\"homework_1\")\n",
    "sqlContext = SQLContext(sc)"
   ]
  },
  {
   "cell_type": "code",
   "execution_count": 2,
   "metadata": {},
   "outputs": [],
   "source": [
    "raw = sc.textFile(\"household_power_consumption.txt\").map(lambda x: x.split(\";\"))\n",
    "title = raw.first()\n",
    "data = raw.filter(lambda x: x != title ).filter( lambda x: x[2] != \"?\" and x[3] != \"?\" and x[4] != \"?\" and x[5] != \"?\" ).map(lambda col: ( float(col[2]), float(col[3]), float(col[4]), float(col[5])))"
   ]
  },
  {
   "cell_type": "code",
   "execution_count": 3,
   "metadata": {},
   "outputs": [],
   "source": [
    "summary = Statistics.colStats(data)"
   ]
  },
  {
   "cell_type": "markdown",
   "metadata": {},
   "source": [
    "**1. Output the minimum, maximum, and count of the columns: 'global active power', 'global reactive power', 'voltage', and 'global intensity'.**  "
   ]
  },
  {
   "cell_type": "code",
   "execution_count": 4,
   "metadata": {},
   "outputs": [
    {
     "name": "stdout",
     "output_type": "stream",
     "text": [
      "[Global_active_power Global_reactive_power Voltage Global_intensity]\n",
      "[7.600e-02 0.000e+00 2.232e+02 2.000e-01]\n",
      "[ 11.122   1.39  254.15   48.4  ]\n"
     ]
    }
   ],
   "source": [
    "print('[' + title[2] + ' ' + title[3] + ' ' + title[4] + ' ' + title[5] + ']')\n",
    "print(summary.min())\n",
    "print(summary.max())"
   ]
  },
  {
   "cell_type": "markdown",
   "metadata": {},
   "source": [
    "**2. Output the mean and standard deviation of these columns.**  "
   ]
  },
  {
   "cell_type": "code",
   "execution_count": 5,
   "metadata": {},
   "outputs": [
    {
     "name": "stdout",
     "output_type": "stream",
     "text": [
      "[1.09161504e+00 1.23714476e-01 2.40839858e+02 4.62775931e+00]\n",
      "1.0572941610939892 0.11272197955071644 3.2399866790099945 4.444396259786179\n"
     ]
    }
   ],
   "source": [
    "print(summary.mean())\n",
    "print(sqrt(summary.variance()[0]),sqrt(summary.variance()[1]),sqrt(summary.variance()[2]),sqrt(summary.variance()[3]),)"
   ]
  },
  {
   "cell_type": "markdown",
   "metadata": {},
   "source": [
    "**3. Perform min-max normalization on the columns to generate normalized output.**  "
   ]
  },
  {
   "cell_type": "code",
   "execution_count": 6,
   "metadata": {},
   "outputs": [],
   "source": [
    "def minMax_normalize(record, min_value, max_value):\n",
    "    return (record - min_value) / (max_value - min_value)"
   ]
  },
  {
   "cell_type": "code",
   "execution_count": 7,
   "metadata": {},
   "outputs": [],
   "source": [
    "mins = summary.min()\n",
    "maxs = summary.max()"
   ]
  },
  {
   "cell_type": "code",
   "execution_count": 8,
   "metadata": {},
   "outputs": [],
   "source": [
    "stds = data.map(lambda row: [minMax_normalize(row[0],mins[0],maxs[0]), minMax_normalize(row[1],mins[1],maxs[1]), minMax_normalize(row[2],mins[2],maxs[2]), minMax_normalize(row[3],mins[3],maxs[3])])\n",
    "# Save the result to text file\n",
    "stds.coalesce(1).saveAsTextFile('result.txt')"
   ]
  }
 ],
 "metadata": {
  "kernelspec": {
   "display_name": "Python 3",
   "language": "python",
   "name": "python3"
  },
  "language_info": {
   "codemirror_mode": {
    "name": "ipython",
    "version": 3
   },
   "file_extension": ".py",
   "mimetype": "text/x-python",
   "name": "python",
   "nbconvert_exporter": "python",
   "pygments_lexer": "ipython3",
   "version": "3.6.5"
  }
 },
 "nbformat": 4,
 "nbformat_minor": 2
}
